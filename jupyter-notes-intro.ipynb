{
 "cells": [
  {
   "cell_type": "markdown",
   "metadata": {},
   "source": [
    "#### Imports"
   ]
  },
  {
   "cell_type": "code",
   "execution_count": 23,
   "metadata": {
    "scrolled": false
   },
   "outputs": [],
   "source": [
    "import numpy as np\n",
    "import matplotlib.pyplot as plt"
   ]
  },
  {
   "cell_type": "markdown",
   "metadata": {},
   "source": [
    "#### Function to create a blur matrix"
   ]
  },
  {
   "cell_type": "code",
   "execution_count": 24,
   "metadata": {},
   "outputs": [],
   "source": [
    "def create_matrix(\n",
    "        size\n",
    "):  # first we need a function that creates empty matrices of the size we want (np.empty is not readable)\n",
    "    if int(size) > 0:\n",
    "        s = 1\n",
    "        mat = []\n",
    "        while s <= size:\n",
    "            mat.append([0.0] * size) #the data type of matrix elements is set on creation, so float instead of int\n",
    "            s += 1\n",
    "        mat = np.array(mat)\n",
    "    return mat\n",
    "\n",
    "def create_blur_matrix(size):\n",
    "    blurred_matrix = create_matrix(size)             # create a zeroes matrix of the required size\n",
    "    if size > 1:\n",
    "        for i in range(0, blurred_matrix.shape[1]):  # go through all columns of the matrix\n",
    "            if i == 0:                               # set the edge case for the upper left corner\n",
    "                blurred_matrix[i,i] = 0.8\n",
    "                blurred_matrix[1,i] = 0.2\n",
    "            elif i == (blurred_matrix.shape[1] - 1): # set the edge case for the bottom right corner\n",
    "                blurred_matrix[i, i] = 0.8\n",
    "                blurred_matrix[i-1, i] = 0.2\n",
    "            else:\n",
    "                blurred_matrix[i,i] = 0.6\n",
    "                blurred_matrix[i-1,i] = 0.2\n",
    "                blurred_matrix[i+1,i] = 0.2\n",
    "\n",
    "        return blurred_matrix\n"
   ]
  },
  {
   "cell_type": "code",
   "execution_count": 25,
   "metadata": {
    "scrolled": false
   },
   "outputs": [],
   "source": [
    "M = create_blur_matrix(12)"
   ]
  },
  {
   "cell_type": "markdown",
   "metadata": {},
   "source": [
    "#### Create a vector B of length 12 that represents the number of birthdays that you have in that month."
   ]
  },
  {
   "cell_type": "code",
   "execution_count": 26,
   "metadata": {},
   "outputs": [
    {
     "name": "stdout",
     "output_type": "stream",
     "text": [
      "[0 0 0 0 0 0 0 0 0 0 0 1]\n"
     ]
    }
   ],
   "source": [
    "B = np.array([0, 0, 0, 0, 0, 0, 0, 0, 0, 0, 0, 1])\n",
    "print(B)"
   ]
  },
  {
   "cell_type": "markdown",
   "metadata": {},
   "source": [
    "#### Create a vector C of length 12 that represents the number of birthdays that your parents have in that month."
   ]
  },
  {
   "cell_type": "code",
   "execution_count": 27,
   "metadata": {},
   "outputs": [
    {
     "name": "stdout",
     "output_type": "stream",
     "text": [
      "[0.  0.  0.  0.  0.  0.  0.  0.  0.  0.  0.2 0.8]\n"
     ]
    }
   ],
   "source": [
    "C = np.array([0, 0, 0, 0, 0, 0, 0, 0, 0, 1, 1, 0])\n",
    "print(C)"
   ]
  },
  {
   "cell_type": "markdown",
   "metadata": {},
   "source": [
    "#### Blur B once, print"
   ]
  },
  {
   "cell_type": "code",
   "execution_count": 16,
   "metadata": {
    "scrolled": true
   },
   "outputs": [
    {
     "name": "stdout",
     "output_type": "stream",
     "text": [
      "[0 0 0 0 0 0 0 0 0 1 1 0]\n"
     ]
    }
   ],
   "source": [
    "bBlur = np.matmul(M, B)\n",
    "print(bBlur)"
   ]
  },
  {
   "cell_type": "markdown",
   "metadata": {},
   "source": [
    "#### Blur C once, print"
   ]
  },
  {
   "cell_type": "code",
   "execution_count": 17,
   "metadata": {
    "scrolled": true
   },
   "outputs": [
    {
     "name": "stdout",
     "output_type": "stream",
     "text": [
      "[0.  0.  0.  0.  0.  0.  0.  0.  0.2 0.8 0.8 0.2]\n"
     ]
    }
   ],
   "source": [
    "cBlur = np.matmul(M, C)\n",
    "print(cBlur)"
   ]
  },
  {
   "cell_type": "markdown",
   "metadata": {},
   "source": [
    "####  Compute D = (B+C)"
   ]
  },
  {
   "cell_type": "code",
   "execution_count": 18,
   "metadata": {},
   "outputs": [
    {
     "name": "stdout",
     "output_type": "stream",
     "text": [
      "[0 0 0 0 0 0 0 0 0 1 1 1]\n"
     ]
    }
   ],
   "source": [
    "D = B + C\n",
    "print(D)"
   ]
  },
  {
   "cell_type": "markdown",
   "metadata": {},
   "source": [
    "#### Compute D2 by blurring D twice, print"
   ]
  },
  {
   "cell_type": "code",
   "execution_count": 33,
   "metadata": {},
   "outputs": [
    {
     "name": "stdout",
     "output_type": "stream",
     "text": [
      "[0.   0.   0.   0.   0.   0.   0.   0.04 0.28 0.72 0.96 1.  ]\n"
     ]
    }
   ],
   "source": [
    "D1 = np.matmul(M, np.matmul(M, D))\n",
    "print(D2)"
   ]
  },
  {
   "cell_type": "markdown",
   "metadata": {},
   "source": [
    "#### Compute B2 by blurring B twice, print"
   ]
  },
  {
   "cell_type": "code",
   "execution_count": 31,
   "metadata": {},
   "outputs": [
    {
     "name": "stdout",
     "output_type": "stream",
     "text": [
      "[0.   0.   0.   0.   0.   0.   0.   0.   0.   0.04 0.28 0.68]\n",
      "[0.   0.   0.   0.   0.   0.   0.   0.   0.   0.04 0.28 0.68]\n"
     ]
    }
   ],
   "source": [
    "B2 = np.matmul(M, np.matmul(M, B))\n",
    "print(B2)"
   ]
  },
  {
   "cell_type": "markdown",
   "metadata": {},
   "source": [
    "#### Compute C2 by blurring C twice, print"
   ]
  },
  {
   "cell_type": "code",
   "execution_count": 32,
   "metadata": {},
   "outputs": [
    {
     "name": "stdout",
     "output_type": "stream",
     "text": [
      "[0.   0.   0.   0.   0.   0.   0.   0.04 0.28 0.68 0.68 0.32]\n"
     ]
    }
   ],
   "source": [
    "C2 = np.matmul(M, np.matmul(M, C))\n",
    "print(C2)"
   ]
  },
  {
   "cell_type": "markdown",
   "metadata": {},
   "source": [
    "#### Compute BC2 by adding B2 and C2, print"
   ]
  },
  {
   "cell_type": "code",
   "execution_count": 34,
   "metadata": {},
   "outputs": [
    {
     "name": "stdout",
     "output_type": "stream",
     "text": [
      "[0.   0.   0.   0.   0.   0.   0.   0.04 0.28 0.72 0.96 1.  ]\n"
     ]
    }
   ],
   "source": [
    "BC2 = B2 + C2\n",
    "print(BC2)"
   ]
  },
  {
   "cell_type": "markdown",
   "metadata": {},
   "source": [
    "#### Is BC2 always equal to D2? Find a counterexample, or provide an argument why these two must be equal."
   ]
  },
  {
   "cell_type": "markdown",
   "metadata": {},
   "source": [
    "BC2 will always be equal to D2 since matrx multiplication is distributive. This can be proved as follows:\n",
    "\n",
    "```\n",
    "B2 = M * (M * B)\n",
    "C2 = M * (M * C)\n",
    "\n",
    "B2 + C2 = M * (M * B) + M * (M * C)\n",
    "B2 + C2 = M * (M*B + M*C) ...based on distributivity\n",
    "\n",
    "B2 + C2 = M * (M*(B + C)) and D2 = M * (M * (B + C))\n",
    "\n",
    "Thefore B2 + C2 = D2\n",
    "```\n"
   ]
  }
 ],
 "metadata": {
  "kernelspec": {
   "display_name": "Python 3",
   "language": "python",
   "name": "python3"
  },
  "language_info": {
   "codemirror_mode": {
    "name": "ipython",
    "version": 3
   },
   "file_extension": ".py",
   "mimetype": "text/x-python",
   "name": "python",
   "nbconvert_exporter": "python",
   "pygments_lexer": "ipython3",
   "version": "3.7.7"
  }
 },
 "nbformat": 4,
 "nbformat_minor": 4
}
